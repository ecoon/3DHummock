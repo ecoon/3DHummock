{
 "cells": [
  {
   "cell_type": "code",
   "execution_count": 1,
   "metadata": {},
   "outputs": [
    {
     "name": "stdout",
     "output_type": "stream",
     "text": [
      "Using matplotlib backend: Qt5Agg\n"
     ]
    }
   ],
   "source": [
    "%matplotlib"
   ]
  },
  {
   "cell_type": "code",
   "execution_count": 6,
   "metadata": {},
   "outputs": [
    {
     "name": "stdout",
     "output_type": "stream",
     "text": [
      "['', 'C:\\\\Users\\\\mtoconnor12\\\\Anaconda2\\\\python27.zip', 'C:\\\\Users\\\\mtoconnor12\\\\Anaconda2\\\\DLLs', 'C:\\\\Users\\\\mtoconnor12\\\\Anaconda2\\\\lib', 'C:\\\\Users\\\\mtoconnor12\\\\Anaconda2\\\\lib\\\\plat-win', 'C:\\\\Users\\\\mtoconnor12\\\\Anaconda2\\\\lib\\\\lib-tk', 'C:\\\\Users\\\\mtoconnor12\\\\Anaconda2', 'C:\\\\Users\\\\mtoconnor12\\\\Anaconda2\\\\lib\\\\site-packages', 'C:\\\\Users\\\\mtoconnor12\\\\Anaconda2\\\\lib\\\\site-packages\\\\win32', 'C:\\\\Users\\\\mtoconnor12\\\\Anaconda2\\\\lib\\\\site-packages\\\\win32\\\\lib', 'C:\\\\Users\\\\mtoconnor12\\\\Anaconda2\\\\lib\\\\site-packages\\\\Pythonwin', 'C:\\\\Users\\\\mtoconnor12\\\\Anaconda2\\\\lib\\\\site-packages\\\\IPython\\\\extensions', 'C:\\\\Users\\\\mtoconnor12\\\\.ipython', 'S:/mo8557/ats86/repos/ats/tools/meshing_ats', 'S:/ats86/repos/ats/tools/meshing_ats', 'S:/ats86/repos/ats/tools/meshing_ats', 'S:/ats86/repos/seacas/lib', 'S:/ats86/repos/ats/tools/meshing_ats', 'S:/ats86/repos/seacas/lib', 'S:/ats86/repos/ats/tools/meshing_ats']\n"
     ]
    },
    {
     "ename": "WindowsError",
     "evalue": "[Error 126] The specified module could not be found",
     "output_type": "error",
     "traceback": [
      "\u001b[1;31m---------------------------------------------------------------------------\u001b[0m",
      "\u001b[1;31mWindowsError\u001b[0m                              Traceback (most recent call last)",
      "\u001b[1;32m<ipython-input-6-014cf4a3aaa7>\u001b[0m in \u001b[0;36m<module>\u001b[1;34m()\u001b[0m\n\u001b[0;32m      4\u001b[0m \u001b[0msys\u001b[0m\u001b[1;33m.\u001b[0m\u001b[0mpath\u001b[0m\u001b[1;33m.\u001b[0m\u001b[0mappend\u001b[0m\u001b[1;33m(\u001b[0m\u001b[0mos\u001b[0m\u001b[1;33m.\u001b[0m\u001b[0mpath\u001b[0m\u001b[1;33m.\u001b[0m\u001b[0mjoin\u001b[0m\u001b[1;33m(\u001b[0m\u001b[1;34m'S:/ats86/repos/ats/tools/meshing_ats'\u001b[0m\u001b[1;33m)\u001b[0m\u001b[1;33m)\u001b[0m \u001b[1;31m#os.environ['ATS_SRC_DIR1'],'tools','meshing_ats'))\u001b[0m\u001b[1;33m\u001b[0m\u001b[0m\n\u001b[0;32m      5\u001b[0m \u001b[1;32mprint\u001b[0m\u001b[1;33m(\u001b[0m\u001b[0msys\u001b[0m\u001b[1;33m.\u001b[0m\u001b[0mpath\u001b[0m\u001b[1;33m)\u001b[0m\u001b[1;33m\u001b[0m\u001b[0m\n\u001b[1;32m----> 6\u001b[1;33m \u001b[1;32mimport\u001b[0m \u001b[0mmeshing_ats\u001b[0m\u001b[1;33m\u001b[0m\u001b[0m\n\u001b[0m\u001b[0;32m      7\u001b[0m \u001b[1;32mimport\u001b[0m \u001b[0mnumpy\u001b[0m \u001b[1;32mas\u001b[0m \u001b[0mnp\u001b[0m\u001b[1;33m\u001b[0m\u001b[0m\n\u001b[0;32m      8\u001b[0m \u001b[1;32mimport\u001b[0m \u001b[0mpandas\u001b[0m \u001b[1;32mas\u001b[0m \u001b[0mpd\u001b[0m\u001b[1;33m\u001b[0m\u001b[0m\n",
      "\u001b[1;32mS:/ats86/repos/ats/tools/meshing_ats\\meshing_ats.py\u001b[0m in \u001b[0;36m<module>\u001b[1;34m()\u001b[0m\n\u001b[0;32m     80\u001b[0m \u001b[1;32mimport\u001b[0m \u001b[0mcollections\u001b[0m\u001b[1;33m\u001b[0m\u001b[0m\n\u001b[0;32m     81\u001b[0m \u001b[0msys\u001b[0m\u001b[1;33m.\u001b[0m\u001b[0mpath\u001b[0m\u001b[1;33m.\u001b[0m\u001b[0mappend\u001b[0m\u001b[1;33m(\u001b[0m\u001b[1;34m'S:/ats86/repos/seacas/lib'\u001b[0m\u001b[1;33m)\u001b[0m\u001b[1;33m\u001b[0m\u001b[0m\n\u001b[1;32m---> 82\u001b[1;33m \u001b[1;32mimport\u001b[0m \u001b[0mexodus\u001b[0m\u001b[1;33m\u001b[0m\u001b[0m\n\u001b[0m\u001b[0;32m     83\u001b[0m \u001b[1;32mimport\u001b[0m \u001b[0margparse\u001b[0m\u001b[1;33m\u001b[0m\u001b[0m\n\u001b[0;32m     84\u001b[0m \u001b[1;33m\u001b[0m\u001b[0m\n",
      "\u001b[1;32mS:/ats86/repos/seacas/lib\\exodus.py\u001b[0m in \u001b[0;36m<module>\u001b[1;34m()\u001b[0m\n\u001b[0;32m     93\u001b[0m \u001b[1;31m#else:\u001b[0m\u001b[1;33m\u001b[0m\u001b[1;33m\u001b[0m\u001b[0m\n\u001b[0;32m     94\u001b[0m \u001b[1;31m#EXODUS_SO = \"S:/ats86/repos/seacas/lib/libexodus.so\"\u001b[0m\u001b[1;33m\u001b[0m\u001b[1;33m\u001b[0m\u001b[0m\n\u001b[1;32m---> 95\u001b[1;33m \u001b[0mEXODUS_LIB\u001b[0m \u001b[1;33m=\u001b[0m \u001b[0mcdll\u001b[0m\u001b[1;33m.\u001b[0m\u001b[0mLoadLibrary\u001b[0m\u001b[1;33m(\u001b[0m\u001b[0mEXODUS_SO\u001b[0m\u001b[1;33m)\u001b[0m\u001b[1;33m\u001b[0m\u001b[0m\n\u001b[0m\u001b[0;32m     96\u001b[0m \u001b[1;33m\u001b[0m\u001b[0m\n\u001b[0;32m     97\u001b[0m \u001b[0mMAX_STR_LENGTH\u001b[0m       \u001b[1;33m=\u001b[0m \u001b[1;36m32\u001b[0m      \u001b[1;31m# match exodus default\u001b[0m\u001b[1;33m\u001b[0m\u001b[0m\n",
      "\u001b[1;32mC:\\Users\\mtoconnor12\\Anaconda2\\lib\\ctypes\\__init__.pyc\u001b[0m in \u001b[0;36mLoadLibrary\u001b[1;34m(self, name)\u001b[0m\n\u001b[0;32m    442\u001b[0m \u001b[1;33m\u001b[0m\u001b[0m\n\u001b[0;32m    443\u001b[0m     \u001b[1;32mdef\u001b[0m \u001b[0mLoadLibrary\u001b[0m\u001b[1;33m(\u001b[0m\u001b[0mself\u001b[0m\u001b[1;33m,\u001b[0m \u001b[0mname\u001b[0m\u001b[1;33m)\u001b[0m\u001b[1;33m:\u001b[0m\u001b[1;33m\u001b[0m\u001b[0m\n\u001b[1;32m--> 444\u001b[1;33m         \u001b[1;32mreturn\u001b[0m \u001b[0mself\u001b[0m\u001b[1;33m.\u001b[0m\u001b[0m_dlltype\u001b[0m\u001b[1;33m(\u001b[0m\u001b[0mname\u001b[0m\u001b[1;33m)\u001b[0m\u001b[1;33m\u001b[0m\u001b[0m\n\u001b[0m\u001b[0;32m    445\u001b[0m \u001b[1;33m\u001b[0m\u001b[0m\n\u001b[0;32m    446\u001b[0m \u001b[0mcdll\u001b[0m \u001b[1;33m=\u001b[0m \u001b[0mLibraryLoader\u001b[0m\u001b[1;33m(\u001b[0m\u001b[0mCDLL\u001b[0m\u001b[1;33m)\u001b[0m\u001b[1;33m\u001b[0m\u001b[0m\n",
      "\u001b[1;32mC:\\Users\\mtoconnor12\\Anaconda2\\lib\\ctypes\\__init__.pyc\u001b[0m in \u001b[0;36m__init__\u001b[1;34m(self, name, mode, handle, use_errno, use_last_error)\u001b[0m\n\u001b[0;32m    364\u001b[0m \u001b[1;33m\u001b[0m\u001b[0m\n\u001b[0;32m    365\u001b[0m         \u001b[1;32mif\u001b[0m \u001b[0mhandle\u001b[0m \u001b[1;32mis\u001b[0m \u001b[0mNone\u001b[0m\u001b[1;33m:\u001b[0m\u001b[1;33m\u001b[0m\u001b[0m\n\u001b[1;32m--> 366\u001b[1;33m             \u001b[0mself\u001b[0m\u001b[1;33m.\u001b[0m\u001b[0m_handle\u001b[0m \u001b[1;33m=\u001b[0m \u001b[0m_dlopen\u001b[0m\u001b[1;33m(\u001b[0m\u001b[0mself\u001b[0m\u001b[1;33m.\u001b[0m\u001b[0m_name\u001b[0m\u001b[1;33m,\u001b[0m \u001b[0mmode\u001b[0m\u001b[1;33m)\u001b[0m\u001b[1;33m\u001b[0m\u001b[0m\n\u001b[0m\u001b[0;32m    367\u001b[0m         \u001b[1;32melse\u001b[0m\u001b[1;33m:\u001b[0m\u001b[1;33m\u001b[0m\u001b[0m\n\u001b[0;32m    368\u001b[0m             \u001b[0mself\u001b[0m\u001b[1;33m.\u001b[0m\u001b[0m_handle\u001b[0m \u001b[1;33m=\u001b[0m \u001b[0mhandle\u001b[0m\u001b[1;33m\u001b[0m\u001b[0m\n",
      "\u001b[1;31mWindowsError\u001b[0m: [Error 126] The specified module could not be found"
     ]
    }
   ],
   "source": [
    "import sys, os\n",
    "ATS_SRC_DIR1 = 'S:/ats86/repos/ats'\n",
    "\n",
    "sys.path.append(os.path.join('S:/ats86/repos/ats/tools/meshing_ats')) #os.environ['ATS_SRC_DIR1'],'tools','meshing_ats'))\n",
    "print(sys.path)\n",
    "import meshing_ats\n",
    "import numpy as np\n",
    "import pandas as pd\n",
    "from matplotlib import pyplot as plt\n",
    "import math"
   ]
  },
  {
   "cell_type": "code",
   "execution_count": null,
   "metadata": {},
   "outputs": [],
   "source": []
  },
  {
   "cell_type": "code",
   "execution_count": null,
   "metadata": {},
   "outputs": [],
   "source": [
    "xl =pd.ExcelFile('Topo_Profiles_Barrow.xlsx')\n",
    "xl.sheet_names\n",
    "print (xl.sheet_names)\n",
    "data = xl.parse(sheet_name='Transect B, Area C')\n",
    "keys = data.keys()\n",
    "#plt.plot(data['Distance_m'], data['Z'])\n",
    "#plt.ylabel('Elevation')\n",
    "#plt.title('Topography, Polygon Area C')\n",
    "#plt.show()\n",
    "\n",
    "# smooth the topographic data\n",
    "\n",
    "# To get topography from a function, define it here, e.g., z = sine(x)\n",
    "x = np.array(data['Distance_m'][:])\n",
    "z = np.array(data['Z'][:])\n",
    "    \n",
    "# If you topographic data is already smooth then you may not want to run this savgol_filter. \n",
    "import scipy.signal\n",
    "z_smooth = scipy.signal.savgol_filter(z, window_length=11, polyorder=3, mode='nearest')\n",
    "\n",
    "\n",
    "plt.plot(x, z, '.')\n",
    "plt.plot(x, z_smooth, 'k-')\n",
    "plt.ylabel('Elevation')\n",
    "plt.title('Mesh, Polygon Area C')\n",
    "plt.show()"
   ]
  },
  {
   "cell_type": "code",
   "execution_count": null,
   "metadata": {},
   "outputs": [],
   "source": []
  },
  {
   "cell_type": "code",
   "execution_count": null,
   "metadata": {},
   "outputs": [],
   "source": [
    "# From a fucntion\n",
    "# To get topography from a function, define it here, e.g., z = sine(x)\n",
    "A = 0.15\n",
    "k1 = math.pi\n",
    "k2 = math.pi\n",
    "m = 0.1\n",
    "\n",
    "x = np.linspace(0,2,101)\n",
    "y = np.linspace(0,2,101)\n",
    "\n",
    "\n",
    "[X,Y] = np.meshgrid(x,y)\n",
    "\n",
    "Z = A*np.sin(k1*X)*np.sin(k2*Y) + m*X\n",
    "\n",
    "\n",
    "plt.contourf(X,Y,Z)\n",
    "\n"
   ]
  },
  {
   "cell_type": "code",
   "execution_count": null,
   "metadata": {},
   "outputs": [],
   "source": [
    "\"\"\" \n",
    "# 2D Hillslope from a fucntion\n",
    "# Topography from a function: e.g., z = sine(x)\n",
    "\n",
    "x = np.linspace(0,500,501)\n",
    "x0,z0 = 0, 5\n",
    "z = z0 + 0.25 * (x - x0)\n",
    "\n",
    "plt.plot(x, z, '.')\n",
    "plt.title('Mesh, Polygon Area C')\n",
    "plt.show()\n",
    "m2 = meshing_ats.Mesh2D.from_Transect(x,z)\n",
    "\"\"\""
   ]
  },
  {
   "cell_type": "code",
   "execution_count": null,
   "metadata": {},
   "outputs": [],
   "source": [
    "import meshing_ats\n",
    "m2 = meshing_ats.Mesh2D.from_2DSurface(x,y,Z) #1D x, 1D y, and 2D Z\n",
    "#m2.plot()"
   ]
  },
  {
   "cell_type": "code",
   "execution_count": null,
   "metadata": {},
   "outputs": [],
   "source": [
    "\n",
    "# layer extrusion\n",
    "layer_types = []\n",
    "layer_data = []\n",
    "layer_ncells = []\n",
    "layer_mat_ids = []\n",
    "\n",
    "z=0\n",
    "Z = []\n",
    "n1,n2 = 4, 20 #8cm peat \n",
    "#n1, n2 = 10, 14 #20cm peat\n",
    "\n",
    "for i in range(2):\n",
    "    layer_types.append('constant')\n",
    "    layer_data.append(0.01)\n",
    "    layer_ncells.append(1)\n",
    "    layer_mat_ids.append(1001)\n",
    "    z = z + 0.01\n",
    "    Z.append(z)\n",
    "print (z)\n",
    "\n",
    "for i in range(n1): #8cm peat n=4, 20cm peat n=10\n",
    "    layer_types.append('constant')\n",
    "    layer_data.append(0.02)\n",
    "    layer_ncells.append(1)\n",
    "    layer_mat_ids.append(1002)\n",
    "    z = z + 0.02\n",
    "    Z.append(z)\n",
    "print (z)  \n",
    "for i in range(n2): #8cm peat, n=20, 20cm peat n = 14\n",
    "    layer_types.append('constant')\n",
    "    layer_data.append(0.02)\n",
    "    layer_ncells.append(1)\n",
    "    layer_mat_ids.append(1003)\n",
    "    z = z + 0.02\n",
    "    Z.append(z)\n",
    "print (z)\n",
    "dz = .02\n",
    "for i in range(21):\n",
    "    dz *= 1.05\n",
    "    layer_types.append(\"constant\")\n",
    "    layer_data.append(dz)\n",
    "    layer_ncells.append(1)\n",
    "    layer_mat_ids.append(1003)\n",
    "    #print ('3rd layer',z)\n",
    "    z = z + dz\n",
    "    Z.append(z)\n",
    "print (z)\n",
    "\n",
    "for i in range(17):\n",
    "    dz *= 1.2\n",
    "    layer_types.append(\"constant\")\n",
    "    layer_data.append(dz)\n",
    "    layer_ncells.append(1)\n",
    "    layer_mat_ids.append(1003)\n",
    "    #print ('3rd layer',z)\n",
    "    z = z + dz\n",
    "    Z.append(z)\n",
    "print (z)\n",
    "\n",
    "\n",
    "for i in range(8):\n",
    "    dz *= 1.2\n",
    "    layer_types.append(\"constant\")\n",
    "    layer_data.append(dz)\n",
    "    layer_ncells.append(1)\n",
    "    layer_mat_ids.append(1003)\n",
    "    #print ('5th layer',z)\n",
    "    z = z + dz\n",
    "    Z.append(z)\n",
    "print (z)\n",
    "#layer_types.append('snapped') #snapped is to flat the bottom\n",
    "#layer_data.append(-40.0) # bottom location\n",
    "#layer_ncells.append(2) # these two cells will make the bottom at 40 m\n",
    "#layer_mat_ids.append(1003)\n",
    "\n",
    "m3 = meshing_ats.Mesh3D.extruded_Mesh2D(m2, layer_types, \n",
    "                                        layer_data, \n",
    "                                        layer_ncells, \n",
    "                                        layer_mat_ids)\n",
    "m3.write_exodus(\"testgrid.exo\")\n",
    "#m3.write_exodus(\"column-peat20cm.exo\")"
   ]
  },
  {
   "cell_type": "code",
   "execution_count": null,
   "metadata": {},
   "outputs": [],
   "source": [
    "print 2/101."
   ]
  },
  {
   "cell_type": "code",
   "execution_count": null,
   "metadata": {},
   "outputs": [],
   "source": [
    "0.08/8"
   ]
  },
  {
   "cell_type": "code",
   "execution_count": null,
   "metadata": {},
   "outputs": [],
   "source": [
    "0.02\n",
    "0.1\n",
    "0.5\n",
    "1.25010428797\n",
    "8.33294983235\n",
    "32.8082236775"
   ]
  }
 ],
 "metadata": {
  "kernelspec": {
   "display_name": "Python 2",
   "language": "python",
   "name": "python2"
  },
  "language_info": {
   "codemirror_mode": {
    "name": "ipython",
    "version": 2
   },
   "file_extension": ".py",
   "mimetype": "text/x-python",
   "name": "python",
   "nbconvert_exporter": "python",
   "pygments_lexer": "ipython2",
   "version": "2.7.15"
  }
 },
 "nbformat": 4,
 "nbformat_minor": 2
}
