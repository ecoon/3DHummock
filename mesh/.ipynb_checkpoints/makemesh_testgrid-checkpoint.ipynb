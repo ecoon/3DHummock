{
 "cells": [
  {
   "cell_type": "code",
   "execution_count": 1,
   "metadata": {},
   "outputs": [
    {
     "name": "stdout",
     "output_type": "stream",
     "text": [
      "Using matplotlib backend: Qt5Agg\n"
     ]
    }
   ],
   "source": [
    "%matplotlib"
   ]
  },
  {
   "cell_type": "code",
   "execution_count": 2,
   "metadata": {},
   "outputs": [
    {
     "ename": "ModuleNotFoundError",
     "evalue": "No module named 'meshing_ats'",
     "output_type": "error",
     "traceback": [
      "\u001b[1;31m---------------------------------------------------------------------------\u001b[0m",
      "\u001b[1;31mModuleNotFoundError\u001b[0m                       Traceback (most recent call last)",
      "\u001b[1;32m<ipython-input-2-26d382a9bec0>\u001b[0m in \u001b[0;36m<module>\u001b[1;34m()\u001b[0m\n\u001b[0;32m      1\u001b[0m \u001b[1;32mimport\u001b[0m \u001b[0msys\u001b[0m\u001b[1;33m,\u001b[0m \u001b[0mos\u001b[0m\u001b[1;33m\u001b[0m\u001b[0m\n\u001b[0;32m      2\u001b[0m \u001b[0msys\u001b[0m\u001b[1;33m.\u001b[0m\u001b[0mpath\u001b[0m\u001b[1;33m.\u001b[0m\u001b[0mappend\u001b[0m\u001b[1;33m(\u001b[0m\u001b[0mos\u001b[0m\u001b[1;33m.\u001b[0m\u001b[0mpath\u001b[0m\u001b[1;33m.\u001b[0m\u001b[0mjoin\u001b[0m\u001b[1;33m(\u001b[0m\u001b[0mos\u001b[0m\u001b[1;33m.\u001b[0m\u001b[0menviron\u001b[0m\u001b[1;33m[\u001b[0m\u001b[1;34m'ATS_SRC_DIR'\u001b[0m\u001b[1;33m]\u001b[0m\u001b[1;33m,\u001b[0m\u001b[1;34m'tools'\u001b[0m\u001b[1;33m,\u001b[0m\u001b[1;34m'meshing_ats'\u001b[0m\u001b[1;33m)\u001b[0m\u001b[1;33m)\u001b[0m\u001b[1;33m\u001b[0m\u001b[0m\n\u001b[1;32m----> 3\u001b[1;33m \u001b[1;32mimport\u001b[0m \u001b[0mmeshing_ats\u001b[0m\u001b[1;33m\u001b[0m\u001b[0m\n\u001b[0m\u001b[0;32m      4\u001b[0m \u001b[1;32mimport\u001b[0m \u001b[0mnumpy\u001b[0m \u001b[1;32mas\u001b[0m \u001b[0mnp\u001b[0m\u001b[1;33m\u001b[0m\u001b[0m\n\u001b[0;32m      5\u001b[0m \u001b[1;32mimport\u001b[0m \u001b[0mpandas\u001b[0m \u001b[1;32mas\u001b[0m \u001b[0mpd\u001b[0m\u001b[1;33m\u001b[0m\u001b[0m\n",
      "\u001b[1;31mModuleNotFoundError\u001b[0m: No module named 'meshing_ats'"
     ]
    }
   ],
   "source": [
    "import sys, os\n",
    "sys.path.append(os.path.join(os.environ['ATS_SRC_DIR'],'tools','meshing_ats'))\n",
    "print(sys.path)\n",
    "import meshing_ats\n",
    "import numpy as np\n",
    "import pandas as pd\n",
    "from matplotlib import pyplot as plt\n",
    "import math"
   ]
  },
  {
   "cell_type": "code",
   "execution_count": null,
   "metadata": {},
   "outputs": [],
   "source": []
  },
  {
   "cell_type": "code",
   "execution_count": 3,
   "metadata": {},
   "outputs": [
    {
     "name": "stdout",
     "output_type": "stream",
     "text": [
      "[u'Transect A, Polygon near ERT', u'Transect B, Polygon near ERT', u'Transect Area B', u'Transect A, Area C', u'Transect B, Area C', u'Repeat ERT Transect']\n"
     ]
    }
   ],
   "source": [
    "xl =pd.ExcelFile('Topo_Profiles_Barrow.xlsx')\n",
    "xl.sheet_names\n",
    "print (xl.sheet_names)\n",
    "data = xl.parse(sheet_name='Transect B, Area C')\n",
    "keys = data.keys()\n",
    "#plt.plot(data['Distance_m'], data['Z'])\n",
    "#plt.ylabel('Elevation')\n",
    "#plt.title('Topography, Polygon Area C')\n",
    "#plt.show()\n",
    "\n",
    "# smooth the topographic data\n",
    "\n",
    "# To get topography from a function, define it here, e.g., z = sine(x)\n",
    "x = np.array(data['Distance_m'][:])\n",
    "z = np.array(data['Z'][:])\n",
    "    \n",
    "# If you topographic data is already smooth then you may not want to run this savgol_filter. \n",
    "import scipy.signal\n",
    "z_smooth = scipy.signal.savgol_filter(z, window_length=11, polyorder=3, mode='nearest')\n",
    "\n",
    "\n",
    "plt.plot(x, z, '.')\n",
    "plt.plot(x, z_smooth, 'k-')\n",
    "plt.ylabel('Elevation')\n",
    "plt.title('Mesh, Polygon Area C')\n",
    "plt.show()"
   ]
  },
  {
   "cell_type": "code",
   "execution_count": null,
   "metadata": {},
   "outputs": [],
   "source": []
  },
  {
   "cell_type": "code",
   "execution_count": 11,
   "metadata": {},
   "outputs": [
    {
     "data": {
      "text/plain": [
       "<matplotlib.contour.QuadContourSet at 0x111bd1c90>"
      ]
     },
     "execution_count": 11,
     "metadata": {},
     "output_type": "execute_result"
    }
   ],
   "source": [
    "# From a fucntion\n",
    "# To get topography from a function, define it here, e.g., z = sine(x)\n",
    "A = 0.15\n",
    "k1 = math.pi\n",
    "k2 = math.pi\n",
    "m = 0.1\n",
    "\n",
    "x = np.linspace(0,2,101)\n",
    "y = np.linspace(0,2,101)\n",
    "\n",
    "\n",
    "[X,Y] = np.meshgrid(x,y)\n",
    "\n",
    "Z = A*np.sin(k1*X)*np.sin(k2*Y) + m*X\n",
    "\n",
    "\n",
    "plt.contourf(X,Y,Z)\n",
    "\n"
   ]
  },
  {
   "cell_type": "code",
   "execution_count": null,
   "metadata": {},
   "outputs": [],
   "source": [
    "\"\"\" \n",
    "# 2D Hillslope from a fucntion\n",
    "# Topography from a function: e.g., z = sine(x)\n",
    "\n",
    "x = np.linspace(0,500,501)\n",
    "x0,z0 = 0, 5\n",
    "z = z0 + 0.25 * (x - x0)\n",
    "\n",
    "plt.plot(x, z, '.')\n",
    "plt.title('Mesh, Polygon Area C')\n",
    "plt.show()\n",
    "m2 = meshing_ats.Mesh2D.from_Transect(x,z)\n",
    "\"\"\""
   ]
  },
  {
   "cell_type": "code",
   "execution_count": 13,
   "metadata": {},
   "outputs": [
    {
     "name": "stderr",
     "output_type": "stream",
     "text": [
      "IOPub data rate exceeded.\n",
      "The notebook server will temporarily stop sending output\n",
      "to the client in order to avoid crashing it.\n",
      "To change this limit, set the config variable\n",
      "`--NotebookApp.iopub_data_rate_limit`.\n",
      "\n",
      "Current values:\n",
      "NotebookApp.iopub_data_rate_limit=1000000.0 (bytes/sec)\n",
      "NotebookApp.rate_limit_window=3.0 (secs)\n",
      "\n"
     ]
    }
   ],
   "source": [
    "import meshing_ats\n",
    "m2 = meshing_ats.Mesh2D.from_2DSurface(x,y,Z) #1D x, 1D y, and 2D Z\n",
    "#m2.plot()"
   ]
  },
  {
   "cell_type": "code",
   "execution_count": 9,
   "metadata": {},
   "outputs": [
    {
     "name": "stdout",
     "output_type": "stream",
     "text": [
      "0.02\n",
      "0.1\n",
      "0.5\n",
      "1.25010428797\n",
      "8.33294983235\n",
      "32.8082236775\n",
      "\n",
      "You are using exodus.py v 1.05 (beta-cmake), a python wrapper of some of the exodus II library.\n",
      "\n",
      "Copyright (c) 2013, 2014, 2015, 2016, 2017 National Technology &\n",
      "Engineering Solutions of Sandia, LLC (NTESS).  Under the terms of\n",
      "Contract DE-NA0003525 with NTESS, the U.S. Government retains certain\n",
      "rights in this software.  \n",
      "\n",
      "Opening exodus file: testgrid.exo\n",
      "Closing exodus file: testgrid.exo\n"
     ]
    }
   ],
   "source": [
    "\n",
    "# layer extrusion\n",
    "layer_types = []\n",
    "layer_data = []\n",
    "layer_ncells = []\n",
    "layer_mat_ids = []\n",
    "\n",
    "z=0\n",
    "Z = []\n",
    "n1,n2 = 4, 20 #8cm peat \n",
    "#n1, n2 = 10, 14 #20cm peat\n",
    "\n",
    "for i in range(2):\n",
    "    layer_types.append('constant')\n",
    "    layer_data.append(0.01)\n",
    "    layer_ncells.append(1)\n",
    "    layer_mat_ids.append(1001)\n",
    "    z = z + 0.01\n",
    "    Z.append(z)\n",
    "print (z)\n",
    "\n",
    "for i in range(n1): #8cm peat n=4, 20cm peat n=10\n",
    "    layer_types.append('constant')\n",
    "    layer_data.append(0.02)\n",
    "    layer_ncells.append(1)\n",
    "    layer_mat_ids.append(1002)\n",
    "    z = z + 0.02\n",
    "    Z.append(z)\n",
    "print (z)  \n",
    "for i in range(n2): #8cm peat, n=20, 20cm peat n = 14\n",
    "    layer_types.append('constant')\n",
    "    layer_data.append(0.02)\n",
    "    layer_ncells.append(1)\n",
    "    layer_mat_ids.append(1003)\n",
    "    z = z + 0.02\n",
    "    Z.append(z)\n",
    "print (z)\n",
    "dz = .02\n",
    "for i in range(21):\n",
    "    dz *= 1.05\n",
    "    layer_types.append(\"constant\")\n",
    "    layer_data.append(dz)\n",
    "    layer_ncells.append(1)\n",
    "    layer_mat_ids.append(1003)\n",
    "    #print ('3rd layer',z)\n",
    "    z = z + dz\n",
    "    Z.append(z)\n",
    "print (z)\n",
    "\n",
    "for i in range(17):\n",
    "    dz *= 1.2\n",
    "    layer_types.append(\"constant\")\n",
    "    layer_data.append(dz)\n",
    "    layer_ncells.append(1)\n",
    "    layer_mat_ids.append(1003)\n",
    "    #print ('3rd layer',z)\n",
    "    z = z + dz\n",
    "    Z.append(z)\n",
    "print (z)\n",
    "\n",
    "\n",
    "for i in range(8):\n",
    "    dz *= 1.2\n",
    "    layer_types.append(\"constant\")\n",
    "    layer_data.append(dz)\n",
    "    layer_ncells.append(1)\n",
    "    layer_mat_ids.append(1003)\n",
    "    #print ('5th layer',z)\n",
    "    z = z + dz\n",
    "    Z.append(z)\n",
    "print (z)\n",
    "#layer_types.append('snapped') #snapped is to flat the bottom\n",
    "#layer_data.append(-40.0) # bottom location\n",
    "#layer_ncells.append(2) # these two cells will make the bottom at 40 m\n",
    "#layer_mat_ids.append(1003)\n",
    "\n",
    "m3 = meshing_ats.Mesh3D.extruded_Mesh2D(m2, layer_types, \n",
    "                                        layer_data, \n",
    "                                        layer_ncells, \n",
    "                                        layer_mat_ids)\n",
    "m3.write_exodus(\"testgrid.exo\")\n",
    "#m3.write_exodus(\"column-peat20cm.exo\")"
   ]
  },
  {
   "cell_type": "code",
   "execution_count": 10,
   "metadata": {},
   "outputs": [
    {
     "name": "stdout",
     "output_type": "stream",
     "text": [
      "0.019801980198\n"
     ]
    }
   ],
   "source": [
    "print 2/101."
   ]
  },
  {
   "cell_type": "code",
   "execution_count": null,
   "metadata": {},
   "outputs": [],
   "source": [
    "0.08/8"
   ]
  },
  {
   "cell_type": "code",
   "execution_count": null,
   "metadata": {},
   "outputs": [],
   "source": [
    "0.02\n",
    "0.1\n",
    "0.5\n",
    "1.25010428797\n",
    "8.33294983235\n",
    "32.8082236775"
   ]
  }
 ],
 "metadata": {
  "kernelspec": {
   "display_name": "Python 3",
   "language": "python",
   "name": "python3"
  },
  "language_info": {
   "codemirror_mode": {
    "name": "ipython",
    "version": 3
   },
   "file_extension": ".py",
   "mimetype": "text/x-python",
   "name": "python",
   "nbconvert_exporter": "python",
   "pygments_lexer": "ipython3",
   "version": "3.6.5"
  }
 },
 "nbformat": 4,
 "nbformat_minor": 2
}
